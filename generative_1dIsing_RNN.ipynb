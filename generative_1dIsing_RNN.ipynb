{
  "nbformat": 4,
  "nbformat_minor": 0,
  "metadata": {
    "colab": {
      "name": "generative_1dIsing_RNN.ipynb",
      "provenance": [],
      "collapsed_sections": []
    },
    "kernelspec": {
      "name": "python3",
      "display_name": "Python 3"
    },
    "language_info": {
      "name": "python"
    },
    "accelerator": "GPU"
  },
  "cells": [
    {
      "cell_type": "code",
      "metadata": {
        "id": "_wudB1xVW3hU"
      },
      "source": [
        "import numpy as np\n",
        "import matplotlib.pyplot as plt\n",
        "import torch\n",
        "\n",
        "#define the device (cpu or gpu) and data type (float32 or float64) we'll use. \n",
        "#GPUs can be used on google colab by changing the runtime type\n",
        "use_cuda = torch.cuda.is_available()\n",
        "device = torch.device(\"cuda:0\" if use_cuda else \"cpu\")\n",
        "dtype = torch.float32"
      ],
      "execution_count": 1,
      "outputs": []
    },
    {
      "cell_type": "markdown",
      "metadata": {
        "id": "WzPKGz-ACxDC"
      },
      "source": [
        "A basic tutorial on modelling the probability distribution of a toy data set, consisting of a superposition of the low- and high-temperature configurations of a 1D Ising model, using recurrent neural networks."
      ]
    },
    {
      "cell_type": "code",
      "metadata": {
        "id": "bFJlefjNWKz1"
      },
      "source": [
        "def toy_1d_ising(N, L):\n",
        "    states=np.random.choice([0, 1], size=(N,L))\n",
        "    states_up = np.ones((N, L))\n",
        "    states_down = np.zeros((N,L))\n",
        "    states = np.concatenate((states, states_up, states_down))\n",
        "    np.random.shuffle(states)\n",
        "    return states[:N]\n",
        "\n",
        "#energy and magnetization of states with open boundary conditions\n",
        "def energy(states):\n",
        "    states = (2*states - 1) \n",
        "    return -1*np.sum(states[:,:-1]* np.roll(states,-1, axis = 1)[:,:-1], axis = 1)\n",
        "def magnetization(states):\n",
        "    states = (2*states - 1) \n",
        "    return np.sum(states, axis = 1)\n",
        "\n"
      ],
      "execution_count": 2,
      "outputs": []
    },
    {
      "cell_type": "markdown",
      "metadata": {
        "id": "ZvLz0kliIbTi"
      },
      "source": [
        "We want to learn the probability distribution of these samples, $P(\\mathbf{x})\\equiv P(x_1, x_2, \\cdots, x_N)$. We can model this distribution in an autoregressive way: \\begin{equation}\n",
        "P(\\mathbf{x}) = \\Pi_{i=1}^N P(x_i|\\{x_{j<i}\\}),\n",
        "\\end{equation}\n",
        "where $P(x_i|\\{x_{j<i}\\})$ is the conditional probability of $x_i$ given the previous values $\\{x_{j<i}\\}$. These conditional probabilities are modelled with a recurrent neural network (RNN). An RNN (in its basic form) receives at each site as input a previous \"hidden\" state $h_{i-1}$ and previous spin state $x_{i-1}$, and calculates a new hidden state $h_i$. This hidden state is then further processed to the normalized conditional probability $P(x_i|\\{x_{j<i}\\})$. New states can then also be drawn from $P(\\mathbf{x})$ by sequentially sampling the conditional probabilities. To optimize the RNN, we minimize the negative log likelihood of the training data, which is equivalent to minimizing the KL-divergence."
      ]
    },
    {
      "cell_type": "code",
      "metadata": {
        "id": "umFA4fhSaetW"
      },
      "source": [
        "class RNN_Ising(torch.nn.Module):\n",
        "    def __init__(self, N, input_dim, hidden_dim):\n",
        "        super(RNN_Ising, self).__init__()\n",
        "\n",
        "        self.N = N\n",
        "        self.input_dim = input_dim # number of possible values the local variables can have\n",
        "        self.hidden_dim = hidden_dim #Dimension of the hidden state\n",
        "\n",
        "\n",
        "        #A GRU cell receives an input and hidden state, and from this calculates a new hidden state. \n",
        "        #The cell will be applied to each lattice site sequentially.\n",
        "        #.to() converts a pytorch module/tensor to a different device/dtype\n",
        "        self.rnn_cell = torch.nn.GRUCell(self.input_dim, hidden_dim).to(dtype)\n",
        "\n",
        "        #These hidden states are then processed to the conditional probabilities P(x_i|\\{x_{j<i}\\}).\n",
        "        #To do so, the hidden state vector for each lattice site is first transformed to a vector with dimension equal to the number of possible states. \n",
        "        #This is done with a fully-connected neural network through torch.nn.Linear(x,y) where x and y are the dimension of the input and output-vector respectively.\n",
        "        #This vector is then passed through a softmax activation, which normalizes the vector. The normalization is done over dim = 1, as dim = 0 is the batch dimension.\n",
        "        #These two operations are combined in a torch.nn.Sequential, which makes a sequential model of an arbitrary number of layers and activation functions.\n",
        "        #The conditional probability is then defined as the product between this vector and the spin state.\n",
        "        self.dense = torch.nn.Sequential(torch.nn.Linear(self.hidden_dim, self.input_dim), torch.nn.Softmax(dim=1)).to(dtype) \n",
        "\n",
        "    #calculate the log likelihood of provided data samples in parallel (i.e. process a whole batch at once)\n",
        "    def log_prob(self, samples):\n",
        "        numsamples = samples.shape[0]\n",
        "        #The samples have dimension (batch, self.N). We need to transform each spin value to a one-hot encoding (i.e. 0 -> (1 0) and 1 -> (0 1)).\n",
        "        one_hot_samples = torch.nn.functional.one_hot(samples.to(torch.int64), num_classes = self.input_dim).to(dtype)\n",
        "        cond_probs = torch.zeros(numsamples, self.N,  dtype=dtype, device = device)\n",
        "\n",
        "        #The initial hidden and input state are defined as zero-vectors.\n",
        "        hidden_state = torch.zeros(numsamples, self.hidden_dim, dtype=dtype, device=device)\n",
        "        inputs = torch.zeros(numsamples, self.input_dim, dtype=dtype, device=device)\n",
        "\n",
        "        #traverse the 1D lattice\n",
        "        for i in range(self.N):\n",
        "            #calculate new hidden state\n",
        "            hidden_state = self.rnn_cell(inputs, hidden_state)\n",
        "            \n",
        "            #apply the layer which returns a normalized conditional probability vector over the possible spin states\n",
        "            output_prob = self.dense(hidden_state)\n",
        "\n",
        "            #calculate conditional probabilities\n",
        "            #This is done by taking the product between the normalized conditional probability vector and the one-hot encoded spin states.\n",
        "            #This results in a scalar value P(x_i|\\{x_{j<i}\\})\n",
        "            cond_probs[:, i] = (output_prob * one_hot_samples[:,i]).sum(dim = 1)\n",
        "\n",
        "            #Select the input for the next site\n",
        "            inputs = one_hot_samples[:,i]\n",
        "\n",
        "        #The log probability of the entire sample is then found by summing over the conditional log probabilities.\n",
        "        log_prob = torch.log(cond_probs).sum(dim=1)\n",
        "        return log_prob\n",
        "\n",
        "    #We don't need to record gradients while sampling, telling our model not to do this makes it faster\n",
        "    @torch.no_grad()\n",
        "    def sample(self,numsamples):\n",
        "\n",
        "        samples = torch.zeros(numsamples, self.N,  dtype=dtype, device = device)\n",
        "\n",
        "        #The initial hidden and input state are defined as zero-vectors.\n",
        "        hidden_state = torch.zeros(numsamples, self.hidden_dim, dtype=dtype, device=device)\n",
        "        inputs = torch.zeros(numsamples, self.input_dim, dtype=dtype, device=device)\n",
        "\n",
        "        for i in range(self.N):\n",
        "            #calculate new hidden state\n",
        "            hidden_state = self.rnn_cell(inputs, hidden_state)\n",
        "            \n",
        "            #apply softmax layer\n",
        "            output_prob = self.dense(hidden_state)\n",
        "\n",
        "            #sample from conditional probability vector.\n",
        "            #torch.multinomial(x, N) draws N samples from the probability distribution x.\n",
        "            sampled_site = torch.multinomial(output_prob,1)[:,0]\n",
        "            samples[:,i] = sampled_site\n",
        "\n",
        "            #This sampled site is then used as input for the next site\n",
        "            inputs = torch.nn.functional.one_hot(sampled_site, num_classes=self.input_dim).to(dtype)\n",
        "        return samples\n",
        "\n",
        "    def train(self, train_set, test_set, num_epochs, bSize, lr):\n",
        "\n",
        "        #Define the optimizer which will be used to update our weights. This requires a list of all the model parameters and a learning rate.\n",
        "        optim = torch.optim.Adam(list(self.rnn_cell.parameters()) + list(self.dense.parameters()), lr = lr)\n",
        "        \n",
        "        #These loaders allow for easy iterating over a data set.\n",
        "        train_loader = torch.utils.data.DataLoader(train_set, batch_size=bSize, shuffle=True)\n",
        "        test_loader = torch.utils.data.DataLoader(test_set, batch_size=bSize, shuffle=False)\n",
        "        \n",
        "        train_loss = torch.zeros(num_epochs)\n",
        "        test_loss = torch.zeros(num_epochs)\n",
        "\n",
        "        for i in range(num_epochs):\n",
        "\n",
        "            running_train_loss = 0\n",
        "            running_test_loss = 0\n",
        "\n",
        "\n",
        "            for (batch_idx, batch) in enumerate(train_loader):\n",
        "                optim.zero_grad() #set the gradients of each model parameter back to zero.\n",
        "                \n",
        "                loss = -1*torch.mean(self.log_prob(batch)) #calculate the loss on the batch, here the negative log likelihood\n",
        "                loss.backward() #backpropagate the loss\n",
        "                optim.step() #Update all model parameters according to the loss gradient.\n",
        "\n",
        "                running_train_loss+=loss.item() #.item() returns the value of a tensor as a standard Python number\n",
        "            train_loss[i] = running_train_loss/(batch_idx+1)\n",
        "\n",
        "            #Don't need to record gradients over test set, explicitly saying so makes this faster\n",
        "            with torch.no_grad():\n",
        "                for (batch_idx, batch) in enumerate(test_loader):\n",
        "                    loss = torch.mean(-self.log_prob(batch))\n",
        "                    running_test_loss+=loss.item()\n",
        "\n",
        "                test_loss[i] = running_test_loss/(batch_idx+1)\n",
        "            if i % 50 == 0:    \n",
        "                print(\"Epoch: \"+str(i+1)+\"   train loss: \" +str(train_loss[i])+\"   test loss: \" +str( test_loss[i]))\n",
        "        return train_loss, test_loss"
      ],
      "execution_count": 3,
      "outputs": []
    },
    {
      "cell_type": "code",
      "metadata": {
        "colab": {
          "base_uri": "https://localhost:8080/",
          "height": 351
        },
        "id": "ECFuhUwyQcsZ",
        "outputId": "d1661af9-83ef-4e90-9aec-e09f6528bec3"
      },
      "source": [
        "N_train = 10000\n",
        "N_test = 1000\n",
        "L= 20\n",
        "\n",
        "#Generate a training and testing set. The latter will be used to test how well we generalize\n",
        "train_set = torch.from_numpy(toy_1d_ising(N_train, L)).to(dtype).to(device)        \n",
        "test_set = torch.from_numpy(toy_1d_ising(N_test, L)).to(dtype).to(device)        \n",
        "\n",
        "#Create an RNN model, and move it to GPU if using through .to(device)\n",
        "rnn = RNN_Ising(L, 2, 32).to(device)\n",
        "train_loss, test_loss = rnn.train(train_set, test_set, 200,200, 1e-4)\n",
        "\n",
        "plt.plot(train_loss, label = \"Train\")\n",
        "plt.plot(test_loss, label = \"Test\")\n",
        "plt.xlabel(\"Epoch\")\n",
        "plt.ylabel(\"Loss\")\n",
        "\n",
        "plt.legend()\n",
        "plt.show()"
      ],
      "execution_count": 4,
      "outputs": [
        {
          "output_type": "stream",
          "text": [
            "Epoch: 1   train loss: tensor(13.6076)   test loss: tensor(13.3205)\n",
            "Epoch: 51   train loss: tensor(6.1861)   test loss: tensor(6.3170)\n",
            "Epoch: 101   train loss: tensor(5.8080)   test loss: tensor(5.9446)\n",
            "Epoch: 151   train loss: tensor(5.7595)   test loss: tensor(5.8877)\n"
          ],
          "name": "stdout"
        },
        {
          "output_type": "display_data",
          "data": {
            "image/png": "[encoded data removed]",
            "text/plain": [
              "<Figure size 432x288 with 1 Axes>"
            ]
          },
          "metadata": {
            "tags": [],
            "needs_background": "light"
          }
        }
      ]
    },
    {
      "cell_type": "markdown",
      "metadata": {
        "id": "WIsxy-wxQtt2"
      },
      "source": [
        "Once trained, we can sample from the RNN and see whether it has learned the correct distribution of some observables."
      ]
    },
    {
      "cell_type": "code",
      "metadata": {
        "colab": {
          "base_uri": "https://localhost:8080/",
          "height": 545
        },
        "id": "gVRbHOAGzdg4",
        "outputId": "e03b4dde-0a2e-4434-ff61-3475d193202d"
      },
      "source": [
        "samples =rnn.sample(100000).cpu().numpy() \n",
        "states = toy_1d_ising(100000, L)\n",
        "\n",
        "plt.hist(energy(samples), alpha =0.5, bins=np.arange(min(energy(samples)), max(energy(samples)) + 1, 1),  align= 'left', label = \"RNN\")\n",
        "plt.hist(energy(states), alpha =0.5, bins=np.arange(min(energy(states)), max(energy(states)) + 1, 1), align= 'left', label = \"Data\")\n",
        "plt.xlabel(\"Energy\")\n",
        "plt.ylabel(\"Counts\")\n",
        "plt.legend()\n",
        "plt.show()\n",
        "\n",
        "plt.hist(magnetization(samples), alpha =0.5, bins=np.arange(min(magnetization(samples)), max(magnetization(samples)) + 1, 1),  align= 'left')\n",
        "plt.hist(magnetization(states), alpha =0.5, bins=np.arange(min(magnetization(states)), max(magnetization(states)) + 1, 1),  align= 'left')\n",
        "plt.xlabel(\"Magnetization\")\n",
        "plt.ylabel(\"Counts\")\n",
        "\n",
        "plt.show()\n",
        "\n"
      ],
      "execution_count": 5,
      "outputs": [
        {
          "output_type": "display_data",
          "data": {
            "image/png": "[encoded data removed]",
            "text/plain": [
              "<Figure size 432x288 with 1 Axes>"
            ]
          },
          "metadata": {
            "tags": [],
            "needs_background": "light"
          }
        },
        {
          "output_type": "display_data",
          "data": {
            "image/png": "[encoded data removed]",
            "text/plain": [
              "<Figure size 432x288 with 1 Axes>"
            ]
          },
          "metadata": {
            "tags": [],
            "needs_background": "light"
          }
        }
      ]
    }
  ]
}
