{
  "nbformat": 4,
  "nbformat_minor": 0,
  "metadata": {
    "colab": {
      "name": "generative_1dIsing_RNN.ipynb",
      "provenance": [],
      "collapsed_sections": []
    },
    "kernelspec": {
      "name": "python3",
      "display_name": "Python 3"
    },
    "language_info": {
      "name": "python"
    },
    "accelerator": "GPU"
  },
  "cells": [
    {
      "cell_type": "code",
      "metadata": {
        "id": "_wudB1xVW3hU"
      },
      "source": [
        "import numpy as np\n",
        "import matplotlib.pyplot as plt\n",
        "import torch\n",
        "\n",
        "import torch.backends.cudnn as cudnn\n",
        "cudnn.benchmark = True\n",
        "use_cuda = torch.cuda.is_available()\n",
        "device = torch.device(\"cuda:0\" if use_cuda else \"cpu\")\n",
        "dtype = torch.float32"
      ],
      "execution_count": 1,
      "outputs": []
    },
    {
      "cell_type": "markdown",
      "metadata": {
        "id": "WzPKGz-ACxDC"
      },
      "source": [
        "A basic tutorial on modelling the probability distribution of a toy data set, consisting of a superposition of the low- and high-temperature configurations of a 1D Ising model, using recurrent neural networks."
      ]
    },
    {
      "cell_type": "code",
      "metadata": {
        "id": "bFJlefjNWKz1"
      },
      "source": [
        "def toy_1d_ising(N, L):\n",
        "    states=np.random.choice([0, 1], size=(N,L))\n",
        "    states_up = np.ones((N, L))\n",
        "    states_down = np.zeros((N,L))\n",
        "    states = np.concatenate((states, states_up, states_down))\n",
        "    np.random.shuffle(states)\n",
        "    return states[:N]\n",
        "\n",
        "#energy and magnetization of states with open boundary conditions\n",
        "def energy(states):\n",
        "    states = (2*states - 1) \n",
        "    return -1*np.sum(states[:,:-1]* np.roll(states,-1, axis = 1)[:,:-1], axis = 1)\n",
        "def magnetization(states):\n",
        "    states = (2*states - 1) \n",
        "    return np.sum(states, axis = 1)\n",
        "\n"
      ],
      "execution_count": 2,
      "outputs": []
    },
    {
      "cell_type": "markdown",
      "metadata": {
        "id": "ZvLz0kliIbTi"
      },
      "source": [
        "We want to learn the probability distribution of these samples, $P(\\mathbf{x})\\equiv P(x_1, x_2, \\cdots, x_N)$. We can model this distribution in an autoregressive way: \\begin{equation}\n",
        "P(\\mathbf{x}) = \\Pi_{i=1}^N P(x_i|\\{x_{j<i}\\}),\n",
        "\\end{equation}\n",
        "where $P(x_i|\\{x_{j<i}\\})$ is the conditional probability of $x_i$ given the previous values $\\{x_{j<i}\\}$. These conditional probabilities are modelled with a recurrent neural network (RNN). An RNN (in its basic form) receives at each site as input a previous \"hidden\" state $h_{i-1}$ and previous spin state $x_{i-1}$, and calculates a new hidden state $h_i$. This hidden state is then further processed to the normalized conditional probability $P(x_i|\\{x_{j<i}\\})$. New states can then also be drawn from $P(\\mathbf{x})$ by sequentially sampling the conditional probabilities. To optimize the RNN, we minimize the negative log likelihood of the training data."
      ]
    },
    {
      "cell_type": "code",
      "metadata": {
        "id": "umFA4fhSaetW"
      },
      "source": [
        "class RNN_Ising(torch.nn.Module):\n",
        "    def __init__(self, N, input_dim, hidden_dim):\n",
        "        super(RNN_Ising, self).__init__()\n",
        "\n",
        "        self.N = N\n",
        "        self.input_dim = input_dim # number of possible values the local variables can have\n",
        "        self.hidden_dim = hidden_dim #hidden dimension of the RNN cell\n",
        "\n",
        "        self.rnn_cell = torch.nn.GRUCell(self.input_dim, hidden_dim).to(dtype)\n",
        "        self.dense = torch.nn.Sequential(torch.nn.Linear(self.hidden_dim, self.input_dim), torch.nn.Softmax(dim=1)).to(dtype) #used to process the hidden state to a normalized conditional prob.\n",
        "\n",
        "    #calculate log P(samples)\n",
        "    def log_prob(self, samples):\n",
        "        numsamples = samples.shape[0]\n",
        "        one_hot_samples = torch.nn.functional.one_hot(samples.to(torch.int64), num_classes = self.input_dim).to(dtype)\n",
        "        cond_probs = torch.zeros(numsamples, self.N,  dtype=dtype, device = device)\n",
        "\n",
        "        hidden_state = torch.zeros(numsamples, self.hidden_dim, dtype=dtype, device=device)\n",
        "        inputs = torch.zeros(numsamples, self.input_dim, dtype=dtype, device=device)\n",
        "\n",
        "        #traverse the 1D lattice\n",
        "        for i in range(self.N):\n",
        "            #calculate new hidden state\n",
        "            hidden_state = self.rnn_cell(inputs, hidden_state)\n",
        "            \n",
        "            #apply softmax layer\n",
        "            output_prob = self.dense(hidden_state)\n",
        "\n",
        "            #calculate conditional probabilities\n",
        "            cond_probs[:, i] = (output_prob * one_hot_samples[:,i]).sum(dim = 1)\n",
        "\n",
        "            inputs = one_hot_samples[:,i]\n",
        "\n",
        "        log_prob = torch.log(cond_probs).sum(dim=1)\n",
        "        return log_prob\n",
        "\n",
        "\n",
        "    @torch.no_grad()\n",
        "    def sample(self,numsamples):\n",
        "\n",
        "        samples = torch.zeros(numsamples, self.N,  dtype=dtype, device = device)\n",
        "\n",
        "        hidden_state = torch.zeros(numsamples, self.hidden_dim, dtype=dtype, device=device)\n",
        "        inputs = torch.zeros(numsamples, self.input_dim, dtype=dtype, device=device)\n",
        "\n",
        "        for i in range(self.N):\n",
        "            #calculate new hidden state\n",
        "            hidden_state = self.rnn_cell(inputs, hidden_state)\n",
        "            \n",
        "            #apply softmax layer\n",
        "            output_prob = self.dense(hidden_state)\n",
        "\n",
        "            #sample from conditional probability amplitude\n",
        "            sampled_site = torch.multinomial(output_prob,1)[:,0]\n",
        "            samples[:,i] = sampled_site\n",
        "\n",
        "            inputs = torch.nn.functional.one_hot(sampled_site, num_classes=self.input_dim).to(dtype)\n",
        "        return samples\n",
        "\n",
        "    def train(self, train_set, test_set, num_epochs, bSize, lr):\n",
        "\n",
        "        optim = torch.optim.Adam(list(self.rnn_cell.parameters()) + list(self.dense.parameters()), lr = lr)\n",
        "        \n",
        "        train_loader = torch.utils.data.DataLoader(train_set, batch_size=bSize, shuffle=True)\n",
        "        test_loader = torch.utils.data.DataLoader(test_set, batch_size=bSize, shuffle=False)\n",
        "        train_loss = torch.zeros(num_epochs)\n",
        "        test_loss = torch.zeros(num_epochs)\n",
        "\n",
        "        for i in range(num_epochs):\n",
        "\n",
        "            running_train_loss = 0\n",
        "            running_test_loss = 0\n",
        "\n",
        "\n",
        "            for (batch_idx, batch) in enumerate(train_loader):\n",
        "                optim.zero_grad()\n",
        "                loss = -1*torch.mean(self.log_prob(batch))\n",
        "                loss.backward()\n",
        "                optim.step()\n",
        "                running_train_loss+=loss.item()\n",
        "            train_loss[i] = running_train_loss/(batch_idx+1)\n",
        "\n",
        "            with torch.no_grad():\n",
        "                for (batch_idx, batch) in enumerate(test_loader):\n",
        "                    loss = torch.mean(-self.log_prob(batch))\n",
        "                    running_test_loss+=loss.item()\n",
        "\n",
        "                test_loss[i] = running_test_loss/(batch_idx+1)\n",
        "            if i % 50 == 0:    \n",
        "                print(\"Epoch: \"+str(i+1)+\"   train loss: \" +str(train_loss[i])+\"   test loss: \" +str( test_loss[i]))\n",
        "        return train_loss, test_loss"
      ],
      "execution_count": 3,
      "outputs": []
    },
    {
      "cell_type": "code",
      "metadata": {
        "colab": {
          "base_uri": "https://localhost:8080/",
          "height": 350
        },
        "id": "ECFuhUwyQcsZ",
        "outputId": "47efb5d9-b2d4-488e-f8c1-d97097c68e64"
      },
      "source": [
        "N_train = 10000\n",
        "N_test = 1000\n",
        "L= 20\n",
        "\n",
        "train_set = torch.from_numpy(toy_1d_ising(N_train, L)).to(dtype).to(device)        \n",
        "test_set = torch.from_numpy(toy_1d_ising(N_test, L)).to(dtype).to(device)        \n",
        "\n",
        "rnn = RNN_Ising(L, 2, 32).to(device)\n",
        "train_loss, test_loss = rnn.train(train_set, test_set, 200,200, 1e-4)\n",
        "\n",
        "plt.plot(train_loss, label = \"Train\")\n",
        "plt.plot(test_loss, label = \"Test\")\n",
        "plt.xlabel(\"Epoch\")\n",
        "plt.ylabel(\"Loss\")\n",
        "\n",
        "plt.legend()\n",
        "plt.show()"
      ],
      "execution_count": 4,
      "outputs": [
        {
          "output_type": "stream",
          "text": [
            "Epoch: 1   train loss: tensor(13.6743)   test loss: tensor(13.5528)\n",
            "Epoch: 51   train loss: tensor(6.5280)   test loss: tensor(6.5235)\n",
            "Epoch: 101   train loss: tensor(5.7875)   test loss: tensor(5.8541)\n",
            "Epoch: 151   train loss: tensor(5.7367)   test loss: tensor(5.8140)\n"
          ],
          "name": "stdout"
        },
        {
          "output_type": "display_data",
          "data": {
            "image/png": "[encoded data removed]",
            "text/plain": [
              "<Figure size 432x288 with 1 Axes>"
            ]
          },
          "metadata": {
            "tags": [],
            "needs_background": "light"
          }
        }
      ]
    },
    {
      "cell_type": "markdown",
      "metadata": {
        "id": "WIsxy-wxQtt2"
      },
      "source": [
        "Once trained, we can sample from the RNN and see whether it has learned the correct distribution of some observables."
      ]
    },
    {
      "cell_type": "code",
      "metadata": {
        "colab": {
          "base_uri": "https://localhost:8080/",
          "height": 517
        },
        "id": "gVRbHOAGzdg4",
        "outputId": "aa0d3873-f2d8-4fc7-9a95-c50ef94749dd"
      },
      "source": [
        "samples =rnn.sample(100000).cpu().numpy() \n",
        "states = toy_1d_ising(100000, L)\n",
        "\n",
        "plt.hist(energy(samples), alpha =0.5, bins=np.arange(min(energy(samples)), max(energy(samples)) + 1, 1),  align= 'left')\n",
        "plt.hist(energy(states), alpha =0.5, bins=np.arange(min(energy(states)), max(energy(states)) + 1, 1), align= 'left')\n",
        "plt.show()\n",
        "\n",
        "plt.hist(magnetization(samples), alpha =0.5, bins=np.arange(min(magnetization(samples)), max(magnetization(samples)) + 1, 1),  align= 'left')\n",
        "plt.hist(magnetization(states), alpha =0.5, bins=np.arange(min(magnetization(states)), max(magnetization(states)) + 1, 1),  align= 'left')\n",
        "plt.show()\n",
        "\n"
      ],
      "execution_count": 5,
      "outputs": [
        {
          "output_type": "display_data",
          "data": {
            "image/png": "[encoded data removed]",
            "text/plain": [
              "<Figure size 432x288 with 1 Axes>"
            ]
          },
          "metadata": {
            "tags": [],
            "needs_background": "light"
          }
        },
        {
          "output_type": "display_data",
          "data": {
            "image/png": "[encoded data removed]",
            "text/plain": [
              "<Figure size 432x288 with 1 Axes>"
            ]
          },
          "metadata": {
            "tags": [],
            "needs_background": "light"
          }
        }
      ]
    }
  ]
}