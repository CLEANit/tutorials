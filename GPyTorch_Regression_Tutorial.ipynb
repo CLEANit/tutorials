{
 "cells": [
  {
   "cell_type": "markdown",
   "metadata": {
    "toc": true
   },
   "source": [
    "<h1>Table of Contents<span class=\"tocSkip\"></span></h1>\n",
    "<div class=\"toc\"><ul class=\"toc-item\"><li><span><a href=\"#Introduction\" data-toc-modified-id=\"Introduction-1\"><span class=\"toc-item-num\">1&nbsp;&nbsp;</span>Introduction</a></span></li><li><span><a href=\"#GP-Regression\" data-toc-modified-id=\"GP-Regression-2\"><span class=\"toc-item-num\">2&nbsp;&nbsp;</span>GP Regression</a></span><ul class=\"toc-item\"><li><span><a href=\"#Set-up-training-data\" data-toc-modified-id=\"Set-up-training-data-2.1\"><span class=\"toc-item-num\">2.1&nbsp;&nbsp;</span>Set up training data</a></span></li><li><span><a href=\"#Setting-up-the-model\" data-toc-modified-id=\"Setting-up-the-model-2.2\"><span class=\"toc-item-num\">2.2&nbsp;&nbsp;</span>Setting up the model</a></span></li><li><span><a href=\"#Training-the-model\" data-toc-modified-id=\"Training-the-model-2.3\"><span class=\"toc-item-num\">2.3&nbsp;&nbsp;</span>Training the model</a></span></li><li><span><a href=\"#Make-predictions-with-the-model\" data-toc-modified-id=\"Make-predictions-with-the-model-2.4\"><span class=\"toc-item-num\">2.4&nbsp;&nbsp;</span>Make predictions with the model</a></span></li><li><span><a href=\"#Plot-the-model-fit\" data-toc-modified-id=\"Plot-the-model-fit-2.5\"><span class=\"toc-item-num\">2.5&nbsp;&nbsp;</span>Plot the model fit</a></span></li></ul></li><li><span><a href=\"#GP-Regression-with-Uncertain-Inputs\" data-toc-modified-id=\"GP-Regression-with-Uncertain-Inputs-3\"><span class=\"toc-item-num\">3&nbsp;&nbsp;</span>GP Regression with Uncertain Inputs</a></span><ul class=\"toc-item\"><li><span><a href=\"#Set-up-training-data\" data-toc-modified-id=\"Set-up-training-data-3.1\"><span class=\"toc-item-num\">3.1&nbsp;&nbsp;</span>Set up training data</a></span></li><li><span><a href=\"#Setting-up-the-model\" data-toc-modified-id=\"Setting-up-the-model-3.2\"><span class=\"toc-item-num\">3.2&nbsp;&nbsp;</span>Setting up the model</a></span></li><li><span><a href=\"#Training-the-model-with-uncertain-features\" data-toc-modified-id=\"Training-the-model-with-uncertain-features-3.3\"><span class=\"toc-item-num\">3.3&nbsp;&nbsp;</span>Training the model with uncertain features</a></span></li></ul></li></ul></div>"
   ]
  },
  {
   "cell_type": "markdown",
   "metadata": {},
   "source": [
    "# GPyTorch\n",
    "\n",
    "GPyTorch. Gaussian processes for modern machine learning systems. l\n",
    "\n",
    "Requirements:\n",
    "\n",
    "Python >= 3.6\n",
    "\n",
    "PyTorch >= 1.8.1\n"
   ]
  },
  {
   "cell_type": "markdown",
   "metadata": {},
   "source": [
    "##  Introduction"
   ]
  },
  {
   "cell_type": "markdown",
   "metadata": {},
   "source": [
    "In this tutorial we will implement a Gaussian processes by using a  Regression with a Gaussian noise model "
   ]
  },
  {
   "cell_type": "markdown",
   "metadata": {},
   "source": [
    "## GP Regression\n",
    "\n",
    "Adapted from https://docs.gpytorch.ai/en/latest/examples/01_Exact_GPs/Simple_GP_Regression.html"
   ]
  },
  {
   "cell_type": "markdown",
   "metadata": {},
   "source": [
    "In this notebook we use GPyTorch top train an RBF kernel Gaussian process on a simple function.\n",
    "\n",
    "\\begin{align}\n",
    "y &= \\sin(2\\pi x) + \\epsilon \\\\\n",
    "  \\epsilon &\\sim \\mathcal{N}(0, \\sqrt{0.04}) \\equiv  N(\\mu, \\sigma^{2}) \n",
    "\\end{align}\n",
    "\n",
    "\n"
   ]
  },
  {
   "cell_type": "code",
   "execution_count": 1,
   "metadata": {
    "ExecuteTime": {
     "end_time": "2021-08-04T15:49:26.624401Z",
     "start_time": "2021-08-04T15:49:25.587272Z"
    }
   },
   "outputs": [],
   "source": [
    "import math\n",
    "import torch\n",
    "import gpytorch\n",
    "from matplotlib import pyplot as plt\n",
    "\n",
    "%matplotlib inline\n",
    "%load_ext autoreload\n",
    "%autoreload 2"
   ]
  },
  {
   "cell_type": "markdown",
   "metadata": {},
   "source": [
    "###  Set up training data"
   ]
  },
  {
   "cell_type": "code",
   "execution_count": 27,
   "metadata": {
    "ExecuteTime": {
     "end_time": "2021-08-04T16:22:45.274442Z",
     "start_time": "2021-08-04T16:22:45.247014Z"
    }
   },
   "outputs": [],
   "source": [
    "# Training data is 100 points in [0,1] inclusive regularly spaced\n",
    "train_x = torch.linspace(0, 1, 100)\n",
    "# True function is sin(2*pi*x) with Gaussian noise\n",
    "train_y = torch.sin(train_x * (2 * math.pi)) + torch.randn(train_x.size()) * math.sqrt(0.04)\n"
   ]
  },
  {
   "cell_type": "code",
   "execution_count": 28,
   "metadata": {
    "ExecuteTime": {
     "end_time": "2021-08-04T16:22:47.481537Z",
     "start_time": "2021-08-04T16:22:47.365158Z"
    }
   },
   "outputs": [
    {
     "data": {
      "text/plain": [
       "[<matplotlib.lines.Line2D at 0x7fe52e1a6588>]"
      ]
     },
     "execution_count": 28,
     "metadata": {},
     "output_type": "execute_result"
    },
    {
     "data": {
      "image/png": "[encoded data removed]",
      "text/plain": [
       "<Figure size 576x360 with 1 Axes>"
      ]
     },
     "metadata": {
      "needs_background": "light"
     },
     "output_type": "display_data"
    }
   ],
   "source": [
    "# Show function\n",
    "FIGSIZE = (8, 5)\n",
    "plt.figure(figsize=FIGSIZE)\n",
    "plt.plot(train_x, train_y,'k--')"
   ]
  },
  {
   "cell_type": "markdown",
   "metadata": {},
   "source": [
    "###  Setting up the model\n",
    "\n",
    "For most GP regression models, you will need to construct the following GPyTorch objects:\n",
    "1. A GP Model (gpytorch.models.ExactGP) \n",
    "2. A Likelihood (gpytorch.likelihoods.GaussianLikelihood) \n",
    "3. A Mean  (gpytorch.means.ConstantMean())\n",
    "4. A Kernel (gpytorch.kernels.ScaleKernel(gpytorch.kernels.RBFKernel()) \n",
    "5. A MultivariateNormal Distribution (gpytorch.distributions.MultivariateNormal) \n"
   ]
  },
  {
   "cell_type": "code",
   "execution_count": 18,
   "metadata": {
    "ExecuteTime": {
     "end_time": "2021-08-04T16:00:28.777946Z",
     "start_time": "2021-08-04T16:00:28.749652Z"
    }
   },
   "outputs": [],
   "source": [
    "# We will use the simplest form of GP model, exact inference\n",
    "class ExactGPModel(gpytorch.models.ExactGP):\n",
    "    def __init__(self, train_x, train_y, likelihood):\n",
    "        super(ExactGPModel, self).__init__(train_x, train_y, likelihood)\n",
    "        self.mean_module = gpytorch.means.ConstantMean()\n",
    "        self.covar_module = gpytorch.kernels.ScaleKernel(gpytorch.kernels.RBFKernel())\n",
    "\n",
    "    def forward(self, x):\n",
    "        mean_x = self.mean_module(x)\n",
    "        covar_x = self.covar_module(x)\n",
    "        return gpytorch.distributions.MultivariateNormal(mean_x, covar_x)\n",
    "\n",
    "# initialize likelihood and model\n",
    "likelihood = gpytorch.likelihoods.GaussianLikelihood()\n",
    "model = ExactGPModel(train_x, train_y, likelihood)"
   ]
  },
  {
   "cell_type": "markdown",
   "metadata": {},
   "source": [
    "### Training the model"
   ]
  },
  {
   "cell_type": "code",
   "execution_count": 19,
   "metadata": {
    "ExecuteTime": {
     "end_time": "2021-08-04T16:00:29.670223Z",
     "start_time": "2021-08-04T16:00:29.342651Z"
    }
   },
   "outputs": [
    {
     "name": "stdout",
     "output_type": "stream",
     "text": [
      "Iter 1/50 - Loss: 0.938   lengthscale: 0.693   noise: 0.693\n",
      "Iter 2/50 - Loss: 0.906   lengthscale: 0.644   noise: 0.644\n",
      "Iter 3/50 - Loss: 0.873   lengthscale: 0.598   noise: 0.598\n",
      "Iter 4/50 - Loss: 0.836   lengthscale: 0.555   noise: 0.554\n",
      "Iter 5/50 - Loss: 0.794   lengthscale: 0.514   noise: 0.513\n",
      "Iter 6/50 - Loss: 0.748   lengthscale: 0.475   noise: 0.474\n",
      "Iter 7/50 - Loss: 0.699   lengthscale: 0.439   noise: 0.437\n",
      "Iter 8/50 - Loss: 0.648   lengthscale: 0.404   noise: 0.402\n",
      "Iter 9/50 - Loss: 0.600   lengthscale: 0.372   noise: 0.370\n",
      "Iter 10/50 - Loss: 0.557   lengthscale: 0.342   noise: 0.339\n",
      "Iter 11/50 - Loss: 0.517   lengthscale: 0.315   noise: 0.311\n",
      "Iter 12/50 - Loss: 0.481   lengthscale: 0.292   noise: 0.284\n",
      "Iter 13/50 - Loss: 0.448   lengthscale: 0.273   noise: 0.259\n",
      "Iter 14/50 - Loss: 0.415   lengthscale: 0.257   noise: 0.237\n",
      "Iter 15/50 - Loss: 0.383   lengthscale: 0.244   noise: 0.216\n",
      "Iter 16/50 - Loss: 0.352   lengthscale: 0.234   noise: 0.197\n",
      "Iter 17/50 - Loss: 0.321   lengthscale: 0.227   noise: 0.179\n",
      "Iter 18/50 - Loss: 0.291   lengthscale: 0.222   noise: 0.163\n",
      "Iter 19/50 - Loss: 0.261   lengthscale: 0.219   noise: 0.148\n",
      "Iter 20/50 - Loss: 0.232   lengthscale: 0.218   noise: 0.135\n",
      "Iter 21/50 - Loss: 0.204   lengthscale: 0.218   noise: 0.123\n",
      "Iter 22/50 - Loss: 0.178   lengthscale: 0.221   noise: 0.112\n",
      "Iter 23/50 - Loss: 0.152   lengthscale: 0.224   noise: 0.102\n",
      "Iter 24/50 - Loss: 0.129   lengthscale: 0.229   noise: 0.093\n",
      "Iter 25/50 - Loss: 0.107   lengthscale: 0.235   noise: 0.085\n",
      "Iter 26/50 - Loss: 0.088   lengthscale: 0.242   noise: 0.078\n",
      "Iter 27/50 - Loss: 0.072   lengthscale: 0.251   noise: 0.071\n",
      "Iter 28/50 - Loss: 0.059   lengthscale: 0.259   noise: 0.065\n",
      "Iter 29/50 - Loss: 0.048   lengthscale: 0.269   noise: 0.060\n",
      "Iter 30/50 - Loss: 0.041   lengthscale: 0.279   noise: 0.056\n",
      "Iter 31/50 - Loss: 0.037   lengthscale: 0.288   noise: 0.052\n",
      "Iter 32/50 - Loss: 0.036   lengthscale: 0.298   noise: 0.049\n",
      "Iter 33/50 - Loss: 0.038   lengthscale: 0.306   noise: 0.046\n",
      "Iter 34/50 - Loss: 0.041   lengthscale: 0.313   noise: 0.043\n",
      "Iter 35/50 - Loss: 0.045   lengthscale: 0.318   noise: 0.041\n",
      "Iter 36/50 - Loss: 0.050   lengthscale: 0.321   noise: 0.040\n",
      "Iter 37/50 - Loss: 0.053   lengthscale: 0.322   noise: 0.038\n",
      "Iter 38/50 - Loss: 0.056   lengthscale: 0.320   noise: 0.037\n",
      "Iter 39/50 - Loss: 0.058   lengthscale: 0.317   noise: 0.037\n",
      "Iter 40/50 - Loss: 0.059   lengthscale: 0.312   noise: 0.036\n",
      "Iter 41/50 - Loss: 0.058   lengthscale: 0.307   noise: 0.036\n",
      "Iter 42/50 - Loss: 0.057   lengthscale: 0.301   noise: 0.037\n",
      "Iter 43/50 - Loss: 0.055   lengthscale: 0.296   noise: 0.037\n",
      "Iter 44/50 - Loss: 0.053   lengthscale: 0.291   noise: 0.037\n",
      "Iter 45/50 - Loss: 0.051   lengthscale: 0.287   noise: 0.038\n",
      "Iter 46/50 - Loss: 0.048   lengthscale: 0.284   noise: 0.039\n",
      "Iter 47/50 - Loss: 0.046   lengthscale: 0.281   noise: 0.040\n",
      "Iter 48/50 - Loss: 0.044   lengthscale: 0.280   noise: 0.041\n",
      "Iter 49/50 - Loss: 0.041   lengthscale: 0.279   noise: 0.042\n",
      "Iter 50/50 - Loss: 0.040   lengthscale: 0.280   noise: 0.044\n"
     ]
    }
   ],
   "source": [
    "# this is for running the notebook in our testing framework\n",
    "import os\n",
    "smoke_test = ('CI' in os.environ)\n",
    "training_iter = 2 if smoke_test else 50\n",
    "\n",
    "\n",
    "# Find optimal model hyperparameters\n",
    "model.train()\n",
    "likelihood.train()\n",
    "\n",
    "# Use the adam optimizer\n",
    "optimizer = torch.optim.Adam(model.parameters(), lr=0.1)  # Includes GaussianLikelihood parameters\n",
    "\n",
    "# \"Loss\" for GPs - the marginal log likelihood\n",
    "mll = gpytorch.mlls.ExactMarginalLogLikelihood(likelihood, model)\n",
    "\n",
    "for i in range(training_iter):\n",
    "    # Zero gradients from previous iteration\n",
    "    optimizer.zero_grad()\n",
    "    # Output from model\n",
    "    output = model(train_x)\n",
    "    # Calc loss and backprop gradients\n",
    "    loss = -mll(output, train_y)\n",
    "    loss.backward()\n",
    "    print('Iter %d/%d - Loss: %.3f   lengthscale: %.3f   noise: %.3f' % (\n",
    "        i + 1, training_iter, loss.item(),\n",
    "        model.covar_module.base_kernel.lengthscale.item(),\n",
    "        model.likelihood.noise.item()\n",
    "    ))\n",
    "    optimizer.step()"
   ]
  },
  {
   "cell_type": "markdown",
   "metadata": {},
   "source": [
    "### Make predictions with the model"
   ]
  },
  {
   "cell_type": "markdown",
   "metadata": {
    "ExecuteTime": {
     "end_time": "2021-08-04T15:49:37.213570Z",
     "start_time": "2021-08-04T15:49:37.097210Z"
    }
   },
   "source": [
    "- f_preds = model(test_x)\n",
    "- y_preds = likelihood(model(test_x))\n",
    "\n",
    "- f_mean = f_preds.mean\n",
    "- f_var = f_preds.variance\n",
    "- f_covar = f_preds.covariance_matrix\n",
    "- f_samples = f_preds.sample(sample_shape=torch.Size(1000,))"
   ]
  },
  {
   "cell_type": "code",
   "execution_count": 20,
   "metadata": {
    "ExecuteTime": {
     "end_time": "2021-08-04T16:00:30.106779Z",
     "start_time": "2021-08-04T16:00:30.076641Z"
    }
   },
   "outputs": [],
   "source": [
    "# Get into evaluation (predictive posterior) mode\n",
    "model.eval()\n",
    "likelihood.eval()\n",
    "\n",
    "# Test points are regularly spaced along [0,1]\n",
    "# Make predictions by feeding model through likelihood\n",
    "with torch.no_grad(), gpytorch.settings.fast_pred_var():\n",
    "    test_x = torch.linspace(0, 1, 51)\n",
    "    observed_pred = likelihood(model(test_x))"
   ]
  },
  {
   "cell_type": "markdown",
   "metadata": {},
   "source": [
    "###  Plot the model fit"
   ]
  },
  {
   "cell_type": "code",
   "execution_count": 21,
   "metadata": {
    "ExecuteTime": {
     "end_time": "2021-08-04T16:00:30.674199Z",
     "start_time": "2021-08-04T16:00:30.530559Z"
    }
   },
   "outputs": [
    {
     "data": {
      "image/png": "[encoded data removed]",
      "text/plain": [
       "<Figure size 576x360 with 1 Axes>"
      ]
     },
     "metadata": {
      "needs_background": "light"
     },
     "output_type": "display_data"
    }
   ],
   "source": [
    "with torch.no_grad():\n",
    "    # Initialize plot\n",
    "    f, ax = plt.subplots(1, 1, figsize=(8, 5))\n",
    "\n",
    "    # Get upper and lower confidence bounds\n",
    "    lower, upper = observed_pred.confidence_region()\n",
    "    # Plot training data as black stars\n",
    "    ax.plot(train_x.numpy(), train_y.numpy(), 'k*')\n",
    "    # Plot predictive means as blue line\n",
    "    ax.plot(test_x.numpy(), observed_pred.mean.numpy(), 'b')\n",
    "    # Shade between the lower and upper confidence bounds\n",
    "    ax.fill_between(test_x.numpy(), lower.numpy(), upper.numpy(), alpha=0.5)\n",
    "    ax.set_ylim([-3, 3])\n",
    "    ax.legend(['Observed Data', 'Mean', 'Confidence'])"
   ]
  },
  {
   "cell_type": "markdown",
   "metadata": {},
   "source": [
    "##  GP Regression with Uncertain Inputs"
   ]
  },
  {
   "cell_type": "markdown",
   "metadata": {},
   "source": [
    "- Now we're going to demonstrate one way of dealing with uncertainty in our training data. Let's say that we're collecting training data that models the following function.\n",
    "\n",
    "\\begin{align}\n",
    "y &= \\sin(2\\pi x) + \\epsilon \\\\\n",
    "  \\epsilon &\\sim \\mathcal{N}(0, 0.2) \n",
    "\\end{align}\n",
    "\n",
    "- However, now assume that we're a bit uncertain about our features. In particular, we're going to assume that every `x_i` value is not a point but a distribution instead. E.g.\n",
    "\n",
    "$$ x_i \\sim \\mathcal{N}(\\mu_i, \\sigma_i). $$\n",
    "\n",
    "- To deal with this uncertainty, we'll use variational inference (VI) in conjunction with stochastic optimization. At every optimization iteration, we'll draw a sample `x_i` from the input distribution.\n"
   ]
  },
  {
   "cell_type": "code",
   "execution_count": 30,
   "metadata": {
    "ExecuteTime": {
     "end_time": "2021-08-04T16:25:53.657982Z",
     "start_time": "2021-08-04T16:25:53.619478Z"
    }
   },
   "outputs": [
    {
     "name": "stdout",
     "output_type": "stream",
     "text": [
      "The autoreload extension is already loaded. To reload it, use:\n",
      "  %reload_ext autoreload\n"
     ]
    }
   ],
   "source": [
    "import math\n",
    "import torch\n",
    "import tqdm\n",
    "import gpytorch\n",
    "from matplotlib import pyplot as plt\n",
    "\n",
    "%matplotlib inline\n",
    "%load_ext autoreload\n",
    "%autoreload 2"
   ]
  },
  {
   "cell_type": "markdown",
   "metadata": {},
   "source": [
    "### Set up training data\n",
    "\n",
    "In the next cell, we set up the training data for this example. We'll be using 20 regularly spaced points on [0,1].\n",
    "We'll represent each of the training points $x_i$ by their mean $\\mu_i$ and variance $\\sigma_i$"
   ]
  },
  {
   "cell_type": "code",
   "execution_count": 32,
   "metadata": {
    "ExecuteTime": {
     "end_time": "2021-08-04T16:26:10.053197Z",
     "start_time": "2021-08-04T16:26:10.025146Z"
    }
   },
   "outputs": [],
   "source": [
    "# Training data is 100 points in [0,1] inclusive regularly spaced\n",
    "train_x_mean = torch.linspace(0, 1, 20)\n",
    "# We'll assume the variance shrinks the closer we get to 1\n",
    "train_x_stdv = torch.linspace(0.03, 0.01, 20)\n",
    "\n",
    "# True function is sin(2*pi*x) with Gaussian noise\n",
    "train_y = torch.sin(train_x_mean * (2 * math.pi)) + torch.randn(train_x_mean.size()) * 0.2"
   ]
  },
  {
   "cell_type": "code",
   "execution_count": 33,
   "metadata": {
    "ExecuteTime": {
     "end_time": "2021-08-04T16:26:10.843767Z",
     "start_time": "2021-08-04T16:26:10.719150Z"
    }
   },
   "outputs": [
    {
     "data": {
      "text/plain": [
       "<matplotlib.legend.Legend at 0x7fe52df3dda0>"
      ]
     },
     "execution_count": 33,
     "metadata": {},
     "output_type": "execute_result"
    },
    {
     "data": {
      "image/png": "[encoded data removed]",
      "text/plain": [
       "<Figure size 576x216 with 1 Axes>"
      ]
     },
     "metadata": {
      "needs_background": "light"
     },
     "output_type": "display_data"
    }
   ],
   "source": [
    "f, ax = plt.subplots(1, 1, figsize=(8, 3))\n",
    "ax.errorbar(train_x_mean, train_y, xerr=(train_x_stdv * 2), fmt=\"k*\", label=\"Train Data\")\n",
    "ax.legend()"
   ]
  },
  {
   "cell_type": "markdown",
   "metadata": {},
   "source": [
    "###  Setting up the model\n",
    "\n",
    "- we're performing VI to deal with the feature uncertainty, we'll be using a `~gpytorch.models.\n",
    "- we'll use a `VariationalStrategy` and a `CholeskyVariationalDistribution` to define our posterior approximation."
   ]
  },
  {
   "cell_type": "code",
   "execution_count": 34,
   "metadata": {
    "ExecuteTime": {
     "end_time": "2021-08-04T16:26:12.218722Z",
     "start_time": "2021-08-04T16:26:12.188375Z"
    }
   },
   "outputs": [],
   "source": [
    "from gpytorch.models import ApproximateGP\n",
    "from gpytorch.variational import CholeskyVariationalDistribution\n",
    "from gpytorch.variational import VariationalStrategy\n",
    "\n",
    "\n",
    "class GPModel(ApproximateGP):\n",
    "    def __init__(self, inducing_points):\n",
    "        variational_distribution = CholeskyVariationalDistribution(inducing_points.size(0))\n",
    "        variational_strategy = VariationalStrategy(self, inducing_points, variational_distribution, learn_inducing_locations=True)\n",
    "        super(GPModel, self).__init__(variational_strategy)\n",
    "        self.mean_module = gpytorch.means.ConstantMean()\n",
    "        self.covar_module = gpytorch.kernels.ScaleKernel(gpytorch.kernels.RBFKernel())\n",
    "        \n",
    "    def forward(self, x):\n",
    "        mean_x = self.mean_module(x)\n",
    "        covar_x = self.covar_module(x)\n",
    "        return gpytorch.distributions.MultivariateNormal(mean_x, covar_x)\n",
    "\n",
    "\n",
    "inducing_points = torch.randn(10, 1)\n",
    "model = GPModel(inducing_points=inducing_points)\n",
    "likelihood = gpytorch.likelihoods.GaussianLikelihood()"
   ]
  },
  {
   "cell_type": "markdown",
   "metadata": {},
   "source": [
    "### Training the model with uncertain features"
   ]
  },
  {
   "cell_type": "code",
   "execution_count": 35,
   "metadata": {
    "ExecuteTime": {
     "end_time": "2021-08-04T16:26:15.874565Z",
     "start_time": "2021-08-04T16:26:13.446266Z"
    }
   },
   "outputs": [
    {
     "data": {
      "application/vnd.jupyter.widget-view+json": {
       "model_id": "84ccadcabeb64e84b44b4705f0bff7b3",
       "version_major": 2,
       "version_minor": 0
      },
      "text/plain": [
       "  0%|          | 0/400 [00:00<?, ?it/s]"
      ]
     },
     "metadata": {},
     "output_type": "display_data"
    }
   ],
   "source": [
    "import os\n",
    "smoke_test = ('CI' in os.environ)\n",
    "training_iter = 2 if smoke_test else 400\n",
    "\n",
    "\n",
    "model.train()\n",
    "likelihood.train()\n",
    "\n",
    "optimizer = torch.optim.Adam([\n",
    "    {'params': model.parameters()},\n",
    "    {'params': likelihood.parameters()},\n",
    "], lr=0.01)\n",
    "\n",
    "# Our loss object. We're using the VariationalELBO\n",
    "mll = gpytorch.mlls.VariationalELBO(likelihood, model, num_data=train_y.size(0))\n",
    "\n",
    "iterator = tqdm.notebook.tqdm(range(training_iter))\n",
    "for i in iterator:\n",
    "    # First thing: draw a sample set of features from our distribution\n",
    "    train_x_sample = torch.distributions.Normal(train_x_mean, train_x_stdv).rsample()\n",
    "    \n",
    "    # Now do the rest of the training loop\n",
    "    optimizer.zero_grad()\n",
    "    output = model(train_x_sample)\n",
    "    loss = -mll(output, train_y)\n",
    "    iterator.set_postfix(loss=loss.item())\n",
    "    loss.backward()\n",
    "    optimizer.step()"
   ]
  },
  {
   "cell_type": "code",
   "execution_count": 36,
   "metadata": {
    "ExecuteTime": {
     "end_time": "2021-08-04T16:26:43.477702Z",
     "start_time": "2021-08-04T16:26:43.315135Z"
    }
   },
   "outputs": [
    {
     "data": {
      "image/png": "[encoded data removed]",
      "text/plain": [
       "<Figure size 576x216 with 1 Axes>"
      ]
     },
     "metadata": {
      "needs_background": "light"
     },
     "output_type": "display_data"
    }
   ],
   "source": [
    "# Get into evaluation (predictive posterior) mode\n",
    "model.eval()\n",
    "likelihood.eval()\n",
    "\n",
    "# Test points are regularly spaced along [0,1]\n",
    "# Make predictions by feeding model through likelihood\n",
    "with torch.no_grad(), gpytorch.settings.fast_pred_var():\n",
    "    test_x = torch.linspace(0, 1, 51)\n",
    "    observed_pred = likelihood(model(test_x))\n",
    "\n",
    "with torch.no_grad():\n",
    "    # Initialize plot\n",
    "    f, ax = plt.subplots(1, 1, figsize=(8, 3))\n",
    "\n",
    "    # Get upper and lower confidence bounds\n",
    "    lower, upper = observed_pred.confidence_region()\n",
    "    # Plot training data as black stars\n",
    "    ax.errorbar(train_x_mean.numpy(), train_y.numpy(), xerr=train_x_stdv, fmt='k*')\n",
    "    # Plot predictive means as blue line\n",
    "    ax.plot(test_x.numpy(), observed_pred.mean.numpy(), 'b')\n",
    "    # Shade between the lower and upper confidence bounds\n",
    "    ax.fill_between(test_x.numpy(), lower.numpy(), upper.numpy(), alpha=0.5)\n",
    "    ax.set_ylim([-3, 3])\n",
    "    ax.legend(['Observed Data', 'Mean', 'Confidence'])"
   ]
  },
  {
   "cell_type": "code",
   "execution_count": null,
   "metadata": {},
   "outputs": [],
   "source": []
  }
 ],
 "metadata": {
  "kernelspec": {
   "display_name": "torch-gpu",
   "language": "python",
   "name": "torch-gpu"
  },
  "language_info": {
   "codemirror_mode": {
    "name": "ipython",
    "version": 3
   },
   "file_extension": ".py",
   "mimetype": "text/x-python",
   "name": "python",
   "nbconvert_exporter": "python",
   "pygments_lexer": "ipython3",
   "version": "3.6.12"
  },
  "latex_envs": {
   "LaTeX_envs_menu_present": true,
   "autoclose": false,
   "autocomplete": true,
   "bibliofile": "biblio.bib",
   "cite_by": "apalike",
   "current_citInitial": 1,
   "eqLabelWithNumbers": true,
   "eqNumInitial": 1,
   "hotkeys": {
    "equation": "Ctrl-E",
    "itemize": "Ctrl-I"
   },
   "labels_anchors": false,
   "latex_user_defs": false,
   "report_style_numbering": false,
   "user_envs_cfg": false
  },
  "toc": {
   "base_numbering": 1,
   "nav_menu": {},
   "number_sections": true,
   "sideBar": true,
   "skip_h1_title": true,
   "title_cell": "Table of Contents",
   "title_sidebar": "Contents",
   "toc_cell": true,
   "toc_position": {},
   "toc_section_display": true,
   "toc_window_display": true
  },
  "varInspector": {
   "cols": {
    "lenName": 16,
    "lenType": 16,
    "lenVar": 40
   },
   "kernels_config": {
    "python": {
     "delete_cmd_postfix": "",
     "delete_cmd_prefix": "del ",
     "library": "var_list.py",
     "varRefreshCmd": "print(var_dic_list())"
    },
    "r": {
     "delete_cmd_postfix": ") ",
     "delete_cmd_prefix": "rm(",
     "library": "var_list.r",
     "varRefreshCmd": "cat(var_dic_list()) "
    }
   },
   "types_to_exclude": [
    "module",
    "function",
    "builtin_function_or_method",
    "instance",
    "_Feature"
   ],
   "window_display": false
  }
 },
 "nbformat": 4,
 "nbformat_minor": 4
}
