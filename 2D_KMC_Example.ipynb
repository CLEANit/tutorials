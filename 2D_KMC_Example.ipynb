{
  "cells": [
    {
      "cell_type": "markdown",
      "source": [
        "# **Introduction**\n",
        "\n",
        "Hello,\n",
        "\n",
        "Welcome to an example of a Kinetic Monte Carlo (KMC) system using an arbitrary 2D vacancy defect. The process here is informed by the chapter 'Introduction to the kinetic monte carlo method' by A. F. Voter from the textbook *Radiation Effects in Solids*\n",
        "\n",
        "Credit is given where possible in the code comments. If you find something missing attributation, please inform me and I will endeavour to correct it ASAP.\n",
        "\n",
        "I hope this notebook proves informative,\n",
        "\n",
        "Christoff Reimer"
      ],
      "metadata": {
        "id": "3-sR5OIq1ruN"
      }
    },
    {
      "cell_type": "markdown",
      "source": [
        "# **Initial imports**"
      ],
      "metadata": {
        "id": "dTv7DF2_1Tv7"
      }
    },
    {
      "cell_type": "code",
      "execution_count": 1,
      "metadata": {
        "id": "wWTTedaUR16w"
      },
      "outputs": [],
      "source": [
        "import numpy as np\n",
        "from matplotlib import rc\n",
        "import matplotlib.pyplot as plt\n",
        "import matplotlib.animation as animation\n",
        "from IPython.display import HTML, Image\n",
        "from matplotlib.colors import ListedColormap\n",
        "from copy import deepcopy"
      ]
    },
    {
      "cell_type": "markdown",
      "metadata": {
        "id": "rcAddaWmCejp"
      },
      "source": [
        "# **Class to create synthetic system**\n",
        "\n",
        "Note 1: The time units used here are arbitrary.\n",
        "\n",
        "Note 2: The system is programmed to treat diagonals and cartesian axis directions equally for transitions. Feel free to alter this to fit your design if a purely up/down/left/right setup is better."
      ]
    },
    {
      "cell_type": "code",
      "execution_count": 2,
      "metadata": {
        "id": "bfKe0OBQ0qOx"
      },
      "outputs": [],
      "source": [
        "# Creates a dynamic 2D defect migration spin system on a grid and allows for interactions with it\n",
        "class sys_dynamics:\n",
        "\n",
        "  # Initialize system with required characteristics such as size, region of interest, where we want the defect, and random generator objects\n",
        "  def __init__(self, components, s_x, s_y, vac_idx, rng_traj, rng_system, rng_rate, roi_x = 1, roi_y = 1):\n",
        "    '''\n",
        "    inputs:\n",
        "    * s_x, s_y\n",
        "    * vac_idx\n",
        "    * rng_traj\n",
        "    * rng_system\n",
        "    * rng_rate\n",
        "    * roi_x, roi_y\n",
        "    Outputs:\n",
        "    * None\n",
        "    Class Variables:\n",
        "    * components (int) --> number of different components/elements in system\n",
        "    * ssize (tuple) --> System size\n",
        "    * vx, vy (int) --> defect location\n",
        "    * v_idx (tuple) --> 2D position of defect\n",
        "    * rng_s (generator) --> numpy random number generator for creating system\n",
        "    * rng_rate (generator) --> for initial rates\n",
        "    * rng_t (generator) --> \"  \" for picking trajectory next item\n",
        "    * arr (2D np array) --> 2D system of integer spins from 1-5\n",
        "    * roi_x, roi_y (int) --> Size of the ROI, in neighbours along x and along y (i.e. a value of 1 for each creates a 3x3 matrix around the defect)\n",
        "    * rate_constants (np array) --> Randomly generated migration rate constants from a narrow range\n",
        "    * rates (np array) --> final rates for migration to each atom type (scaled in ns)\n",
        "    '''\n",
        "    self.ssize = (s_x, s_y)\n",
        "    self.vx = vac_idx[0]\n",
        "    self.vy = vac_idx[1]\n",
        "    self.v_idx = vac_idx\n",
        "    self.rng_s = rng_system\n",
        "    self.rng_t = rng_traj\n",
        "    # Create our 2D system\n",
        "    self.arr = self.rng_s.integers(1, components, size=(s_x, s_y), dtype=np.int64, endpoint=True)\n",
        "    self.roi_x = roi_x\n",
        "    self.roi_y = roi_y\n",
        "\n",
        "    # Generate migration rate constants\n",
        "    self.rate_constants = rng_rate.uniform(0.5, 2, components)\n",
        "    print(\"The rate constants for this arbitrary system are:\", self.rate_constants)\n",
        "\n",
        "  # Introduce a defect to the system\n",
        "  def add_v(self):\n",
        "    self.arr[self.vx][self.vy] = 0\n",
        "\n",
        "  # Credit to Alexander McFarlane\n",
        "  # https://stackoverflow.com/questions/38066785/np-ndarray-with-periodic-boundary-conditions\n",
        "  def latticeWrapIdx(self, index, lattice_shape):\n",
        "    \"\"\"returns periodic lattice index\n",
        "    for a given iterable index\n",
        "\n",
        "    Required Inputs:\n",
        "        index :: iterable :: one integer for each axis\n",
        "        lattice_shape :: the shape of the lattice to index to\n",
        "    \"\"\"\n",
        "    # if not hasattr(index, '__iter__'): return index         # handle integer slices\n",
        "    # if len(index) != len(lattice_shape): return index  # must reference a scalar\n",
        "    # if any(type(i) == slice for i in index): return index   # slices not supported\n",
        "    pbc_data = []\n",
        "    for ix in index:\n",
        "      if len(ix) == len(lattice_shape):               # periodic indexing of scalars\n",
        "          mod_index = tuple(( (i%s + s)%s for i,s in zip(ix, lattice_shape)))\n",
        "          pbc_data.append(mod_index)\n",
        "      else:\n",
        "        raise ValueError('Unexpected index: {}'.format(index))\n",
        "    return pbc_data\n",
        "\n",
        "  # Extract our Region of Interest (ROI)\n",
        "  def sys_cutter(self):\n",
        "    '''\n",
        "    inputs:\n",
        "    * None\n",
        "    Outputs:\n",
        "    * None\n",
        "    Class Variables:\n",
        "    * pos (list of tuples) --> Positions for the atoms in the ROI, in (x, y) format\n",
        "    * roi (np 2D array) --> Small matrix of the ROI\n",
        "    '''\n",
        "    # Positions\n",
        "    self.pos = [(self.vx + i, self.vy + j) for i in range(-self.roi_x, self.roi_x + 1) for j in range(-self.roi_y, self.roi_y + 1)]\n",
        "    # Check for PBCs in position data\n",
        "    self.pos = self.latticeWrapIdx(self.pos, self.ssize)\n",
        "    # Get ROI atom types from positions\n",
        "    self.roi = [self.arr[p[0], p[1]] for p in self.pos]\n",
        "    # Get ROI atom types in matrix shape\n",
        "    self.roi = np.reshape(self.roi, (1 + (2*self.roi_x), 1 + (2*self.roi_x)))\n",
        "\n",
        "  def sys_rules(self, roi_flattened = np.zeros(9)):\n",
        "    '''\n",
        "    inputs:\n",
        "    * roi_flattened (1D np array) --> Atom types from ROI in flattened form\n",
        "    Outputs:\n",
        "    * None\n",
        "    Class Variables:\n",
        "    * R (float) --> sum of the rates present in a given ROI configuration\n",
        "    * rate_set (1D np array) --> rates present in a given ROI configuration\n",
        "    * vx, vy (int) --> defect location\n",
        "    '''\n",
        "\n",
        "    # For making a trajectory\n",
        "    # Stores the rates for each atom type found in the ROI\n",
        "    self.rate_set = []\n",
        "    # Loop over positions data (excluding defect) and get data on type of atom present\n",
        "    for i in self.pos:\n",
        "      a = self.arr[i[0], i[1]]\n",
        "      self.rate_set.append(self.rate_constants[a-1])\n",
        "    # Sum of rates in ROI\n",
        "    self.R = np.sum(self.rate_set)\n",
        "    # List of rates in ROI, scaled by R to range (0,1]\n",
        "    self.prob_vec = self.rate_set/self.R\n",
        "\n",
        "  def trajectory_gen(self, T):\n",
        "    '''\n",
        "    inputs:\n",
        "    * T (int) --> Time alloted for simulation, in ns\n",
        "    Outputs:\n",
        "    * None\n",
        "    Class Variables:\n",
        "    * times (list of floats) --> Residence times (in ns)\n",
        "    * coord_path (list of tuples) --> defect positions\n",
        "    * evolve (list of 2D np arrays) --> State of the system at a given timestep\n",
        "    '''\n",
        "\n",
        "    # Create lists to fill later\n",
        "    self.times = []\n",
        "\n",
        "    # Add a defect to our system\n",
        "    self.add_v()\n",
        "    # Excise the ROI from the system\n",
        "    self.sys_cutter()\n",
        "\n",
        "    # Start filling our system information lists for the coordinate path and the system state\n",
        "    self.coord_path = [self.v_idx]\n",
        "    self.evolve = [deepcopy(self.arr)]\n",
        "\n",
        "    # Init time variable\n",
        "    t = 0\n",
        "\n",
        "    # Use system rules according to rote\n",
        "    self.sys_rules()\n",
        "\n",
        "    # TODO delete this\n",
        "    print(self.arr)\n",
        "    print(\"The first rate set is:\",self.rate_set, \"for\", self.roi)\n",
        "    print(\"This is for position\", self.pos)\n",
        "    print(self.roi)\n",
        "\n",
        "    #dt = np.random.exponential(scale = 1/self.R, size = 1)[0]\n",
        "\n",
        "    # This is the time snippet we take for each step...\n",
        "    dt = (-1/self.R) * np.log(self.rng_t.random(1))[0]\n",
        "\n",
        "    # Loop until we run out of time, updating and evolving our system\n",
        "    while t + dt < T:\n",
        "\n",
        "      # Save our residence times\n",
        "      self.times.append(dt)\n",
        "      # Get an index tuple for the chosen position in the ROI, using prob_vec as our p distribution\n",
        "      chosen = self.rng_t.choice(9, replace=False, p = self.prob_vec)\n",
        "\n",
        "      # Get position tuple of chosen jump\n",
        "      chosen_pos = self.pos[chosen]\n",
        "\n",
        "      # Change the spot we are vacating with the spot we are moving to/swapping with\n",
        "      # TODO I think that the vx and vy may be backwards, but that it doesn't affect anything.  Check up on this\n",
        "      self.arr[self.vx,self.vy] = self.arr[chosen_pos[0], chosen_pos[1]]\n",
        "      self.arr[chosen_pos[0], chosen_pos[1]] = 0\n",
        "      self.vx = chosen_pos[0]\n",
        "      self.vy = chosen_pos[1]\n",
        "\n",
        "      # Update our defect index\n",
        "      self.v_idx = (self.vx, self.vy)\n",
        "      # Update our evolving system with the new system frame\n",
        "      self.evolve.append(deepcopy(self.arr))\n",
        "      # Update our coordinates for the defect movement with our defect index\n",
        "      self.coord_path.append(self.v_idx)\n",
        "\n",
        "      # Increment our running time\n",
        "      t += dt\n",
        "\n",
        "      # Cut new ROI from system\n",
        "      self.sys_cutter()\n",
        "      # Get new Ktotal (we call it R here) and rate vector\n",
        "      self.sys_rules()\n",
        "\n",
        "      # Pick new timestep\n",
        "      dt = (-1/self.R) * np.log(self.rng_t.random(1))[0]\n",
        "\n",
        "    # Take care of our final time steps and state\n",
        "    self.times.append(T - t)"
      ]
    },
    {
      "cell_type": "markdown",
      "source": [
        "# **(Pseudo)randomly generate a system and defect trajectory**"
      ],
      "metadata": {
        "id": "v7nuAA7K0yZi"
      }
    },
    {
      "cell_type": "code",
      "execution_count": 3,
      "metadata": {
        "colab": {
          "base_uri": "https://localhost:8080/"
        },
        "id": "rVukyTDa96vk",
        "outputId": "9e7a2919-1bb7-4ed1-e72f-84c631f9c38f"
      },
      "outputs": [
        {
          "output_type": "stream",
          "name": "stdout",
          "text": [
            "The rate constants for this system (in ns) are: [0.84340772 0.89199655 1.33298616]\n",
            "[[3 3 3 2 1 3 1 1 1 1 2 1 3 1 3 1 3 3 3 1 2]\n",
            " [2 1 2 3 3 2 3 2 3 3 2 1 3 3 1 3 1 3 3 2 1]\n",
            " [1 3 1 3 1 2 2 1 1 3 2 2 2 2 1 1 2 1 2 3 2]\n",
            " [2 1 3 3 3 3 1 3 3 2 1 3 3 3 1 3 2 2 3 3 1]\n",
            " [3 3 3 3 1 3 2 2 3 2 3 2 1 1 3 1 3 2 1 3 1]\n",
            " [2 2 1 3 3 2 3 1 2 1 2 3 3 1 3 2 1 1 3 2 3]\n",
            " [3 3 1 1 2 2 3 2 3 1 1 2 1 2 2 3 3 1 2 1 2]\n",
            " [1 1 2 3 1 3 1 3 1 1 3 2 2 2 1 1 1 1 3 2 1]\n",
            " [2 3 1 1 3 3 1 2 3 1 3 1 3 3 2 2 3 1 1 1 2]\n",
            " [2 3 3 2 2 3 3 1 3 2 1 2 1 1 2 2 1 2 1 2 2]\n",
            " [2 3 1 3 1 1 2 2 3 1 0 1 1 3 3 1 1 3 1 1 2]\n",
            " [2 3 2 1 3 1 1 2 3 3 3 2 1 3 3 3 1 1 2 3 1]\n",
            " [2 1 2 2 3 3 2 3 3 3 3 2 1 3 3 2 3 1 3 1 1]\n",
            " [3 2 3 1 1 3 3 1 2 1 3 3 1 3 2 1 2 2 1 3 1]\n",
            " [1 2 1 1 3 1 2 2 2 2 2 1 3 3 3 3 2 3 2 3 1]\n",
            " [1 3 1 2 1 3 1 1 2 3 3 2 1 1 3 3 3 3 1 1 1]\n",
            " [3 2 1 1 1 1 2 1 1 2 2 2 3 3 3 1 2 3 3 2 3]\n",
            " [2 3 1 2 3 1 3 3 2 1 3 2 1 1 3 3 2 1 1 1 3]\n",
            " [2 3 3 2 1 2 1 2 1 1 2 1 3 1 2 1 3 3 3 3 1]\n",
            " [1 3 3 3 1 3 3 1 3 3 1 3 1 2 2 3 3 2 3 1 3]\n",
            " [3 3 3 2 2 1 2 1 1 3 1 2 2 3 2 1 1 3 1 1 2]]\n",
            "The first rate set is: [0.8919965460848267, 0.8434077246001379, 0.8919965460848267, 0.8434077246001379, 1.332986156135792, 0.8434077246001379, 1.332986156135792, 1.332986156135792, 0.8919965460848267] for [[2 1 2]\n",
            " [1 0 1]\n",
            " [3 3 2]]\n",
            "This is for position [(9, 9), (9, 10), (9, 11), (10, 9), (10, 10), (10, 11), (11, 9), (11, 10), (11, 11)]\n",
            "[[2 1 2]\n",
            " [1 0 1]\n",
            " [3 3 2]]\n"
          ]
        }
      ],
      "source": [
        "# Give in some rng generators\n",
        "rng_sys = np.random.default_rng(1234)\n",
        "rng_traj = np.random.default_rng(5678)\n",
        "rng_rate = np.random.default_rng(9101)\n",
        "\n",
        "sys = sys_dynamics(3, 21,21,(10,10), rng_traj, rng_sys, rng_rate)\n",
        "sys.add_v()\n",
        "T_time = 10\n",
        "sys.trajectory_gen(T_time)\n"
      ]
    },
    {
      "cell_type": "markdown",
      "metadata": {
        "id": "TiSe_7sTB-PZ"
      },
      "source": [
        "# **Save animated section of system movement**\n",
        "\n",
        "This section makes and saves a '.gif' format view of the system evolving over time. The readme file of the tutorial github for this notebook has a playing example of the output."
      ]
    },
    {
      "cell_type": "code",
      "execution_count": 4,
      "metadata": {
        "id": "d4ImokJOIOzI",
        "colab": {
          "base_uri": "https://localhost:8080/",
          "height": 406
        },
        "outputId": "4c9af526-01fb-4113-ab36-e068181776b5"
      },
      "outputs": [
        {
          "output_type": "display_data",
          "data": {
            "text/plain": [
              "<Figure size 640x480 with 1 Axes>"
            ],
            "image/png": "[encoded data removed]"
          },
          "metadata": {}
        }
      ],
      "source": [
        "rc('animation', html='jshtml')\n",
        "fig = plt.figure()\n",
        "im = plt.imshow(sys.evolve[0], animated=True, aspect = \"equal\", cmap = ListedColormap([\"black\", \"turquoise\", \"lightseagreen\", \"crimson\", \"tan\", \"darkorange\"]))\n",
        "im.axes.get_xaxis().set_visible(False)\n",
        "im.axes.get_yaxis().set_visible(False)\n",
        "frame_text = im.axes.text(0.05, 0.05,'',horizontalalignment='left',verticalalignment='top', backgroundcolor = 'white')\n",
        "time_text = im.axes.text(0.05, 2.5,'',horizontalalignment='left',verticalalignment='top', backgroundcolor = 'white')\n",
        "\n",
        "# Creates each updated frame of the gif output based on the system data saved earlier\n",
        "def updatefig(j):\n",
        "\n",
        "    text_frame = \"Frame: \" + str(j)\n",
        "    text_time = \"Time: \" + str(\"{:.2f}\".format(float(np.sum(sys.times[:j]))))\n",
        "\n",
        "    im.set_array(sys.evolve[j])\n",
        "    frame_text.set_text(text_frame)\n",
        "    time_text.set_text(text_time)\n",
        "\n",
        "    return im, frame_text, time_text\n",
        "\n",
        "ani = animation.FuncAnimation(fig, updatefig, frames = len(sys.evolve), repeat_delay = 1000, repeat = True, blit=True)\n",
        "\n",
        "plt.show()\n",
        "\n",
        "ani.save(\"ani.gif\", writer=\"pillow\", fps = 4)"
      ]
    }
  ],
  "metadata": {
    "colab": {
      "provenance": [],
      "toc_visible": true
    },
    "kernelspec": {
      "display_name": "Python 3",
      "name": "python3"
    },
    "language_info": {
      "name": "python"
    }
  },
  "nbformat": 4,
  "nbformat_minor": 0
}