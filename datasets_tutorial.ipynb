{
 "cells": [
  {
   "cell_type": "markdown",
   "metadata": {},
   "source": [
    "# Loading example datasets"
   ]
  },
  {
   "cell_type": "markdown",
   "metadata": {},
   "source": [
    "In this tutorial, you will find the code required to load a few standard datasets that everyone should try their methods on.\n",
    "\n",
    "All datasets will be loaded as [PyTorch dataset objects](https://pytorch.org/docs/stable/data.html)."
   ]
  },
  {
   "cell_type": "code",
   "execution_count": 1,
   "metadata": {},
   "outputs": [],
   "source": [
    "import torch\n",
    "from torch.utils.data import Dataset"
   ]
  },
  {
   "cell_type": "markdown",
   "metadata": {},
   "source": [
    "## Real data"
   ]
  },
  {
   "cell_type": "markdown",
   "metadata": {},
   "source": [
    "First, how to load standard datasets for chemistry and materials science."
   ]
  },
  {
   "cell_type": "markdown",
   "metadata": {},
   "source": [
    "### QM9"
   ]
  },
  {
   "cell_type": "markdown",
   "metadata": {},
   "source": [
    "The QM9 dataset, containing energies and other properties of small organic molecules, is included as an example dataset in Pytorch Geometric.\n",
    "Beware: Running this code will download the entire data set to the specified directory (unless it has already been downloaded)."
   ]
  },
  {
   "cell_type": "code",
   "execution_count": 2,
   "metadata": {},
   "outputs": [],
   "source": [
    "from torch_geometric import datasets\n",
    "qm9 = datasets.QM9(\"~/qm9\")"
   ]
  },
  {
   "cell_type": "markdown",
   "metadata": {},
   "source": [
    "Taking a look at an entry in the dataset:"
   ]
  },
  {
   "cell_type": "code",
   "execution_count": 6,
   "metadata": {},
   "outputs": [
    {
     "data": {
      "text/plain": [
       "Data(edge_attr=[8, 4], edge_index=[2, 8], idx=[1], name=\"gdb_1\", pos=[5, 3], x=[5, 11], y=[1, 19], z=[5])"
      ]
     },
     "execution_count": 6,
     "metadata": {},
     "output_type": "execute_result"
    }
   ],
   "source": [
    "gdb1 = next(iter(qm9))\n",
    "gdb1"
   ]
  },
  {
   "cell_type": "markdown",
   "metadata": {},
   "source": [
    "This entry is, in fact, methane. This information is hidden in the \"x\" attribute containing atom properties for the five atom:"
   ]
  },
  {
   "cell_type": "code",
   "execution_count": 11,
   "metadata": {},
   "outputs": [
    {
     "data": {
      "text/plain": [
       "tensor([[0., 1., 0., 0., 0., 6., 0., 0., 0., 0., 4.],\n",
       "        [1., 0., 0., 0., 0., 1., 0., 0., 0., 0., 0.],\n",
       "        [1., 0., 0., 0., 0., 1., 0., 0., 0., 0., 0.],\n",
       "        [1., 0., 0., 0., 0., 1., 0., 0., 0., 0., 0.],\n",
       "        [1., 0., 0., 0., 0., 1., 0., 0., 0., 0., 0.]])"
      ]
     },
     "execution_count": 11,
     "metadata": {},
     "output_type": "execute_result"
    }
   ],
   "source": [
    "gdb1[\"x\"]"
   ]
  },
  {
   "cell_type": "markdown",
   "metadata": {},
   "source": [
    "See, in the sixth column, \"6, 1, 1, 1, 1\"? Those are the atomic numbers of carbon and four hydrogens."
   ]
  },
  {
   "cell_type": "markdown",
   "metadata": {},
   "source": [
    "The properties to be predicted are contained in the \"y\" attribute. There are 19 of them, and their meanings are explained [in the documentation](https://pytorch-geometric.readthedocs.io/en/latest/modules/datasets.html#torch_geometric.datasets.QM9)."
   ]
  },
  {
   "cell_type": "markdown",
   "metadata": {},
   "source": [
    "QM9 is often analyzed using neural networks. However, the data set does contain the positions of the atoms, not just their connectivity. This is the meaning of the \"pos\" attribute, which for this molecule is a 5x3 tensor (5 atoms, 3 dimensions)."
   ]
  },
  {
   "cell_type": "markdown",
   "metadata": {},
   "source": [
    "### Materials Project"
   ]
  },
  {
   "cell_type": "markdown",
   "metadata": {},
   "source": [
    "The Materials Project is an online database of crystal structures and computed properties.\n",
    "\n",
    "Thankfully, materials can be downloaded one at a time, unlike molecules in QM9. However, you will need to make an account on the [Materials Project website](https://materialsproject.org/), and then click the \"API\" button on the top menu to obtain an API key.\n",
    "\n",
    "Then, the following class can be used to create PyTorch datasets containing materials project entries:"
   ]
  },
  {
   "cell_type": "code",
   "execution_count": 17,
   "metadata": {},
   "outputs": [],
   "source": [
    "from pymatgen.ext.matproj import MPRester\n",
    "\n",
    "# Enter your API key here\n",
    "downloader = MPRester(\"\")\n",
    "\n",
    "class MPData(Dataset):\n",
    "\n",
    "    def __init__(self, ids, downloader):\n",
    "        self.entries = \\\n",
    "            [downloader.get_entry_by_material_id(\n",
    "                material_id,\n",
    "                inc_structure = \"final\",\n",
    "                conventional_unit_cell = True\n",
    "             ) \n",
    "             for material_id in ids]\n",
    "\n",
    "    def __len__(self):\n",
    "        return len(self.entries)\n",
    "\n",
    "    def __getitem__(self, i):\n",
    "        entry = self.entries[i]\n",
    "        structure = entry.structure\n",
    "        return (structure.species, structure.frac_coords, entry.energy)\n"
   ]
  },
  {
   "cell_type": "markdown",
   "metadata": {},
   "source": [
    "To create a data set, you need a list of Materials Project IDs, which you can obtain from a Materials Project search, there through their python API or just by [using their search interface in a web browser](https://materialsproject.org/#search/materials/). Below, I create a dataset containing a single entry just so we can see how it is structured:"
   ]
  },
  {
   "cell_type": "code",
   "execution_count": 21,
   "metadata": {},
   "outputs": [
    {
     "data": {
      "text/plain": [
       "([Element Na,\n",
       "  Element Na,\n",
       "  Element Na,\n",
       "  Element Na,\n",
       "  Element Cl,\n",
       "  Element Cl,\n",
       "  Element Cl,\n",
       "  Element Cl],\n",
       " array([[0. , 0. , 0. ],\n",
       "        [0. , 0.5, 0.5],\n",
       "        [0.5, 0. , 0.5],\n",
       "        [0.5, 0.5, 0. ],\n",
       "        [0.5, 0. , 0. ],\n",
       "        [0.5, 0.5, 0.5],\n",
       "        [0. , 0. , 0.5],\n",
       "        [0. , 0.5, 0. ]]),\n",
       " -27.10511488)"
      ]
     },
     "execution_count": 21,
     "metadata": {},
     "output_type": "execute_result"
    }
   ],
   "source": [
    "example_dataset = MPData([\"mp-22862\"], downloader)\n",
    "mp22862 = next(iter(example_dataset))\n",
    "mp22862"
   ]
  },
  {
   "cell_type": "markdown",
   "metadata": {},
   "source": [
    "This entry is, in fact, table salt."
   ]
  },
  {
   "cell_type": "markdown",
   "metadata": {},
   "source": [
    "## Simple exercises"
   ]
  },
  {
   "cell_type": "markdown",
   "metadata": {},
   "source": [
    "Intro text"
   ]
  },
  {
   "cell_type": "markdown",
   "metadata": {},
   "source": [
    "### A sine wave"
   ]
  },
  {
   "cell_type": "markdown",
   "metadata": {},
   "source": [
    "Explanation"
   ]
  },
  {
   "cell_type": "code",
   "execution_count": null,
   "metadata": {},
   "outputs": [],
   "source": [
    "Code"
   ]
  },
  {
   "cell_type": "markdown",
   "metadata": {},
   "source": [
    "### A 4x4 Ising model"
   ]
  },
  {
   "cell_type": "markdown",
   "metadata": {},
   "source": [
    "Explanation"
   ]
  },
  {
   "cell_type": "code",
   "execution_count": null,
   "metadata": {},
   "outputs": [],
   "source": [
    "Code"
   ]
  }
 ],
 "metadata": {
  "kernelspec": {
   "display_name": "Python 3",
   "language": "python",
   "name": "python3"
  },
  "language_info": {
   "codemirror_mode": {
    "name": "ipython",
    "version": 3
   },
   "file_extension": ".py",
   "mimetype": "text/x-python",
   "name": "python",
   "nbconvert_exporter": "python",
   "pygments_lexer": "ipython3",
   "version": "3.7.10"
  }
 },
 "nbformat": 4,
 "nbformat_minor": 4
}
