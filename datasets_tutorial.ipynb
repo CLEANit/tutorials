{
 "cells": [
  {
   "cell_type": "markdown",
   "metadata": {},
   "source": [
    "# Loading example datasets"
   ]
  },
  {
   "cell_type": "markdown",
   "metadata": {},
   "source": [
    "In this tutorial, you will find the code required to load a few chemistry and materials science datasets.\n",
    "\n",
    "All datasets will be loaded as [PyTorch dataset objects](https://pytorch.org/docs/stable/data.html)."
   ]
  },
  {
   "cell_type": "code",
   "execution_count": 1,
   "metadata": {},
   "outputs": [],
   "source": [
    "import torch\n",
    "from rdkit import Chem\n",
    "from torch.utils.data import Dataset"
   ]
  },
  {
   "cell_type": "markdown",
   "metadata": {},
   "source": [
    "## Real data"
   ]
  },
  {
   "cell_type": "markdown",
   "metadata": {},
   "source": [
    "First, how to load standard datasets for chemistry and materials science."
   ]
  },
  {
   "cell_type": "markdown",
   "metadata": {},
   "source": [
    "### QM9"
   ]
  },
  {
   "cell_type": "markdown",
   "metadata": {},
   "source": [
    "The QM9 dataset, containing energies and other properties of small organic molecules, is included as an example dataset in Pytorch Geometric.\n",
    "Beware: Running this code will download the entire data set to the specified directory (unless it has already been downloaded)."
   ]
  },
  {
   "cell_type": "code",
   "execution_count": 2,
   "metadata": {},
   "outputs": [],
   "source": [
    "from torch_geometric import datasets\n",
    "# The PyTorch dataset\n",
    "qm9 = datasets.QM9(\"~/qm9\")\n",
    "# The raw rdkit molecules\n",
    "qm9_raw = Chem.SDMolSupplier(qm9.raw_paths[0], removeHs=True, sanitize=True)"
   ]
  },
  {
   "cell_type": "markdown",
   "metadata": {},
   "source": [
    "Taking a look at an entry in the dataset:"
   ]
  },
  {
   "cell_type": "code",
   "execution_count": 3,
   "metadata": {},
   "outputs": [],
   "source": [
    "gdb1 = next(iter(qm9))\n",
    "gdb1_raw = next(iter(qm9_raw))"
   ]
  },
  {
   "cell_type": "markdown",
   "metadata": {},
   "source": [
    "This entry is, in fact, methane:"
   ]
  },
  {
   "cell_type": "code",
   "execution_count": 4,
   "metadata": {},
   "outputs": [
    {
     "data": {
      "image/png": "[encoded data removed]",
      "text/plain": [
       "<rdkit.Chem.rdchem.Mol at 0x7f938d91d170>"
      ]
     },
     "execution_count": 4,
     "metadata": {},
     "output_type": "execute_result"
    }
   ],
   "source": [
    "gdb1_raw"
   ]
  },
  {
   "cell_type": "markdown",
   "metadata": {},
   "source": [
    "Looking at a record in the PyTorch dataset object:"
   ]
  },
  {
   "cell_type": "code",
   "execution_count": 5,
   "metadata": {},
   "outputs": [
    {
     "data": {
      "text/plain": [
       "Data(edge_attr=[8, 4], edge_index=[2, 8], idx=[1], name=\"gdb_1\", pos=[5, 3], x=[5, 11], y=[1, 19], z=[5])"
      ]
     },
     "execution_count": 5,
     "metadata": {},
     "output_type": "execute_result"
    }
   ],
   "source": [
    "gdb1"
   ]
  },
  {
   "cell_type": "markdown",
   "metadata": {},
   "source": [
    "Considered as a graph, the bonds are in the \"edge_index\" attribute (2 rows for start and end atom, 8 edges since each bond is represented as an edge in each direction):"
   ]
  },
  {
   "cell_type": "code",
   "execution_count": 6,
   "metadata": {},
   "outputs": [
    {
     "data": {
      "text/plain": [
       "tensor([[0, 0, 0, 0, 1, 2, 3, 4],\n",
       "        [1, 2, 3, 4, 0, 0, 0, 0]])"
      ]
     },
     "execution_count": 6,
     "metadata": {},
     "output_type": "execute_result"
    }
   ],
   "source": [
    "gdb1[\"edge_index\"]"
   ]
  },
  {
   "cell_type": "markdown",
   "metadata": {},
   "source": [
    "Considered as an object in 3D space, the positions of the atoms are in the \"pos\" attribute (5 atoms, 3 dimensions):"
   ]
  },
  {
   "cell_type": "code",
   "execution_count": 7,
   "metadata": {},
   "outputs": [
    {
     "data": {
      "text/plain": [
       "tensor([[-1.2700e-02,  1.0858e+00,  8.0000e-03],\n",
       "        [ 2.2000e-03, -6.0000e-03,  2.0000e-03],\n",
       "        [ 1.0117e+00,  1.4638e+00,  3.0000e-04],\n",
       "        [-5.4080e-01,  1.4475e+00, -8.7660e-01],\n",
       "        [-5.2380e-01,  1.4379e+00,  9.0640e-01]])"
      ]
     },
     "execution_count": 7,
     "metadata": {},
     "output_type": "execute_result"
    }
   ],
   "source": [
    "gdb1[\"pos\"]"
   ]
  },
  {
   "cell_type": "markdown",
   "metadata": {},
   "source": [
    "Atom features (including element) are contained in the \"x\" attribute (5x11: 5 atoms, 11 features). The meanings of the features are in table 1 of [Gilmer et al (2017). Neural Message Passing for Quantum Chemistry](http://proceedings.mlr.press/v70/gilmer17a). The properties to be predicted are contained in the \"y\" attribute (1x19: a list of 19 properties). There are 19 of them, and their meanings are explained [in the PyTorch geometric documentation](https://pytorch-geometric.readthedocs.io/en/latest/modules/datasets.html#torch_geometric.datasets.QM9)."
   ]
  },
  {
   "cell_type": "markdown",
   "metadata": {},
   "source": [
    "### Materials Project"
   ]
  },
  {
   "cell_type": "markdown",
   "metadata": {},
   "source": [
    "The Materials Project is an online database of crystal structures and computed properties.\n",
    "\n",
    "Thankfully, materials can be downloaded one at a time, unlike molecules in QM9. However, you will need to make an account on the [Materials Project website](https://materialsproject.org/), and then click the \"API\" button on the top menu to obtain an API key (or click [here](https://materialsproject.org/open)).\n",
    "\n",
    "Then, the following class can be used to create PyTorch datasets containing materials project entries:"
   ]
  },
  {
   "cell_type": "code",
   "execution_count": 8,
   "metadata": {},
   "outputs": [],
   "source": [
    "from pymatgen.ext.matproj import MPRester\n",
    "\n",
    "# Enter your API key here\n",
    "downloader = MPRester(\"\")\n",
    "\n",
    "class MPData(Dataset):\n",
    "\n",
    "    def __init__(self, ids, downloader):\n",
    "        self.entries = \\\n",
    "            [downloader.get_entry_by_material_id(\n",
    "                material_id,\n",
    "                inc_structure = \"final\",\n",
    "                conventional_unit_cell = True\n",
    "             ) \n",
    "             for material_id in ids]\n",
    "\n",
    "    def __len__(self):\n",
    "        return len(self.entries)\n",
    "\n",
    "    def __getitem__(self, i):\n",
    "        # Documentation on the structure of records:\n",
    "        # https://pymatgen.org/pymatgen.core.html\n",
    "        entry = self.entries[i]\n",
    "        structure = entry.structure\n",
    "        element_Z = [i.Z for i in structure.species]\n",
    "        return (torch.tensor(element_Z), torch.tensor(structure.frac_coords), torch.tensor(entry.energy))\n"
   ]
  },
  {
   "cell_type": "markdown",
   "metadata": {},
   "source": [
    "To create a data set, you need a list of Materials Project IDs, which you can obtain from a Materials Project search, there through their python API or just by [using their search interface in a web browser](https://materialsproject.org/#search/materials/). Below, I create a dataset containing a single entry just so we can see how it is structured:"
   ]
  },
  {
   "cell_type": "code",
   "execution_count": 9,
   "metadata": {},
   "outputs": [
    {
     "name": "stderr",
     "output_type": "stream",
     "text": [
      "/Users/alexdavis/anaconda3/envs/chem/lib/python3.7/site-packages/pymatgen/ext/matproj.py:583: FutureWarning: __init__ is deprecated\n",
      "MaterialsProjectCompatibility will be updated with new correction classes as well as new values of corrections and uncertainties in 2020\n",
      "  entries = MaterialsProjectCompatibility().process_entries(entries)\n"
     ]
    },
    {
     "data": {
      "text/plain": [
       "(tensor([11, 11, 11, 11, 17, 17, 17, 17]),\n",
       " tensor([[0.0000, 0.0000, 0.0000],\n",
       "         [0.0000, 0.5000, 0.5000],\n",
       "         [0.5000, 0.0000, 0.5000],\n",
       "         [0.5000, 0.5000, 0.0000],\n",
       "         [0.5000, 0.0000, 0.0000],\n",
       "         [0.5000, 0.5000, 0.5000],\n",
       "         [0.0000, 0.0000, 0.5000],\n",
       "         [0.0000, 0.5000, 0.0000]], dtype=torch.float64),\n",
       " tensor(-27.1051))"
      ]
     },
     "execution_count": 9,
     "metadata": {},
     "output_type": "execute_result"
    }
   ],
   "source": [
    "example_dataset = MPData([\"mp-22862\"], downloader)\n",
    "mp22862 = next(iter(example_dataset))\n",
    "mp22862"
   ]
  },
  {
   "cell_type": "markdown",
   "metadata": {},
   "source": [
    "The three fields are the atomic numbers, the fractional coordinates, and the energy.\n",
    "\n",
    "This entry is, in fact, table salt."
   ]
  },
  {
   "cell_type": "markdown",
   "metadata": {},
   "source": [
    "## Simple exercises"
   ]
  },
  {
   "cell_type": "markdown",
   "metadata": {},
   "source": [
    "In this section are simple examples. A working definition of \"simple\" is that the energy can be calculated live when the dataset is created, rather than being precomputed."
   ]
  },
  {
   "cell_type": "markdown",
   "metadata": {},
   "source": [
    "### A 4x4 Ising model"
   ]
  },
  {
   "cell_type": "code",
   "execution_count": 10,
   "metadata": {},
   "outputs": [],
   "source": [
    "import random\n",
    "import torch\n",
    "import itertools\n",
    "from torch.utils.data import Dataset, DataLoader\n",
    "\n",
    "# Construct edge list for Ising model graph\n",
    "# 4x4 grid:\n",
    "size = 4\n",
    "edge_set = set()\n",
    "# Convert coordinates in a 2x2 grid to an index in a list formed by\n",
    "# concatenating rows\n",
    "def coordsToIndex(i, j):\n",
    "    return size * i + j\n",
    "\n",
    "for i, j in itertools.product(range(size), range(size)):\n",
    "    # Right\n",
    "    # Need to check if j+1 is off the grid, and equal to size is off the grid\n",
    "    # because of zero indexing\n",
    "    if j + 1 < size:\n",
    "        edge_set.add((coordsToIndex(i, j), coordsToIndex(i, j+1)))\n",
    "    # Top\n",
    "    if i > 0:\n",
    "        edge_set.add((coordsToIndex(i, j), coordsToIndex(i-1, j)))\n",
    "    # Left\n",
    "    if j > 0:\n",
    "        edge_set.add((coordsToIndex(i, j), coordsToIndex(i, j-1)))\n",
    "    # Bottom\n",
    "    if i + 1 < size:\n",
    "        edge_set.add((coordsToIndex(i, j), coordsToIndex(i+1, j)))\n",
    "\n",
    "# Tensor of edges\n",
    "edges = torch.tensor(list(edge_set), dtype = torch.int64)\n",
    "\n",
    "class RandomSpins(Dataset):\n",
    "    def __init__(self, nrow):\n",
    "        # Integer tensor with two columns listing the edges, used for\n",
    "        # calculating energy\n",
    "        self.edges = edges\n",
    "        # Number of nodes in the Ising model\n",
    "        self.nnode = int(size**2)\n",
    "        # Size of the virtual data set (number of distinct spin\n",
    "        # configurations). Basically arbitrary\n",
    "        self.nrow = int(nrow)\n",
    "\n",
    "    def __len__(self):\n",
    "        return self.nrow\n",
    "\n",
    "    def __getitem__(self, i):\n",
    "        if i < 0:\n",
    "            raise IndexError(\"Negative index\")\n",
    "        if i >= self.nrow:\n",
    "            raise IndexError(\"Index out of bounds of virtual dataset\")\n",
    "        random.seed(i)\n",
    "        spins = torch.tensor([random.choice([-1, 1]) for i in range(self.nnode)], dtype = torch.float64)\n",
    "        left_spins = spins[self.edges[:,0]]\n",
    "        right_spins = spins[self.edges[:,1]]\n",
    "        # Ferromagnetic case: aligned spins is low energy, multiply by -1\n",
    "        energy = - 1 * left_spins.dot(right_spins)\n",
    "        return (spins.reshape((size,size)), energy)\n"
   ]
  },
  {
   "cell_type": "markdown",
   "metadata": {},
   "source": [
    "Initializing a dataset requires a single argument, the dataset size:"
   ]
  },
  {
   "cell_type": "code",
   "execution_count": 11,
   "metadata": {},
   "outputs": [],
   "source": [
    "spin_dataset = RandomSpins(1000)"
   ]
  },
  {
   "cell_type": "markdown",
   "metadata": {},
   "source": [
    "Each record contains a 4x4 grid of spins (either +1 or -1), as well as an energy (-1 * product of spins for all neighboring pairs):"
   ]
  },
  {
   "cell_type": "code",
   "execution_count": 12,
   "metadata": {},
   "outputs": [
    {
     "data": {
      "text/plain": [
       "(tensor([[ 1.,  1., -1.,  1.],\n",
       "         [ 1.,  1.,  1.,  1.],\n",
       "         [ 1., -1., -1.,  1.],\n",
       "         [-1., -1.,  1., -1.]], dtype=torch.float64),\n",
       " tensor(-0., dtype=torch.float64))"
      ]
     },
     "execution_count": 12,
     "metadata": {},
     "output_type": "execute_result"
    }
   ],
   "source": [
    "next(iter(spin_dataset))"
   ]
  },
  {
   "cell_type": "markdown",
   "metadata": {},
   "source": [
    "The spins are random and generated independently, which tends to concentrate them in a relatively narrow band of energies."
   ]
  }
 ],
 "metadata": {
  "kernelspec": {
   "display_name": "Python 3",
   "language": "python",
   "name": "python3"
  },
  "language_info": {
   "codemirror_mode": {
    "name": "ipython",
    "version": 3
   },
   "file_extension": ".py",
   "mimetype": "text/x-python",
   "name": "python",
   "nbconvert_exporter": "python",
   "pygments_lexer": "ipython3",
   "version": "3.7.10"
  }
 },
 "nbformat": 4,
 "nbformat_minor": 4
}
